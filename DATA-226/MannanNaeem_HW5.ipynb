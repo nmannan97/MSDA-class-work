{
 "cells": [
  {
   "cell_type": "code",
   "execution_count": 6,
   "id": "9e34db02",
   "metadata": {},
   "outputs": [
    {
     "name": "stdout",
     "output_type": "stream",
     "text": [
      "[\u001b[34m2025-10-01T14:13:23.949-0700\u001b[0m] {\u001b[34mlogging_config.py:\u001b[0m71} ERROR\u001b[0m - Unable to load the config, contains a configuration error.\u001b[0m\n"
     ]
    },
    {
     "ename": "ValueError",
     "evalue": "Unable to configure formatter 'airflow'",
     "output_type": "error",
     "traceback": [
      "\u001b[31m---------------------------------------------------------------------------\u001b[39m",
      "\u001b[31mAttributeError\u001b[39m                            Traceback (most recent call last)",
      "\u001b[36mFile \u001b[39m\u001b[32mc:\\Program Files\\Python311\\Lib\\logging\\config.py:93\u001b[39m, in \u001b[36m_resolve\u001b[39m\u001b[34m(name)\u001b[39m\n\u001b[32m     92\u001b[39m \u001b[38;5;28;01mtry\u001b[39;00m:\n\u001b[32m---> \u001b[39m\u001b[32m93\u001b[39m     found = \u001b[38;5;28mgetattr\u001b[39m(found, n)\n\u001b[32m     94\u001b[39m \u001b[38;5;28;01mexcept\u001b[39;00m \u001b[38;5;167;01mAttributeError\u001b[39;00m:\n",
      "\u001b[31mAttributeError\u001b[39m: partially initialized module 'airflow' has no attribute 'utils' (most likely due to a circular import)",
      "\nDuring handling of the above exception, another exception occurred:\n",
      "\u001b[31mAttributeError\u001b[39m                            Traceback (most recent call last)",
      "\u001b[36mFile \u001b[39m\u001b[32mc:\\Program Files\\Python311\\Lib\\logging\\config.py:541\u001b[39m, in \u001b[36mDictConfigurator.configure\u001b[39m\u001b[34m(self)\u001b[39m\n\u001b[32m    540\u001b[39m \u001b[38;5;28;01mtry\u001b[39;00m:\n\u001b[32m--> \u001b[39m\u001b[32m541\u001b[39m     formatters[name] = \u001b[38;5;28;43mself\u001b[39;49m\u001b[43m.\u001b[49m\u001b[43mconfigure_formatter\u001b[49m\u001b[43m(\u001b[49m\n\u001b[32m    542\u001b[39m \u001b[43m                                        \u001b[49m\u001b[43mformatters\u001b[49m\u001b[43m[\u001b[49m\u001b[43mname\u001b[49m\u001b[43m]\u001b[49m\u001b[43m)\u001b[49m\n\u001b[32m    543\u001b[39m \u001b[38;5;28;01mexcept\u001b[39;00m \u001b[38;5;167;01mException\u001b[39;00m \u001b[38;5;28;01mas\u001b[39;00m e:\n",
      "\u001b[36mFile \u001b[39m\u001b[32mc:\\Program Files\\Python311\\Lib\\logging\\config.py:673\u001b[39m, in \u001b[36mDictConfigurator.configure_formatter\u001b[39m\u001b[34m(self, config)\u001b[39m\n\u001b[32m    672\u001b[39m \u001b[38;5;28;01melse\u001b[39;00m:\n\u001b[32m--> \u001b[39m\u001b[32m673\u001b[39m     c = \u001b[43m_resolve\u001b[49m\u001b[43m(\u001b[49m\u001b[43mcname\u001b[49m\u001b[43m)\u001b[49m\n\u001b[32m    675\u001b[39m \u001b[38;5;66;03m# A TypeError would be raised if \"validate\" key is passed in with a formatter callable\u001b[39;00m\n\u001b[32m    676\u001b[39m \u001b[38;5;66;03m# that does not accept \"validate\" as a parameter\u001b[39;00m\n",
      "\u001b[36mFile \u001b[39m\u001b[32mc:\\Program Files\\Python311\\Lib\\logging\\config.py:96\u001b[39m, in \u001b[36m_resolve\u001b[39m\u001b[34m(name)\u001b[39m\n\u001b[32m     95\u001b[39m         \u001b[38;5;28m__import__\u001b[39m(used)\n\u001b[32m---> \u001b[39m\u001b[32m96\u001b[39m         found = \u001b[38;5;28mgetattr\u001b[39m(found, n)\n\u001b[32m     97\u001b[39m \u001b[38;5;28;01mreturn\u001b[39;00m found\n",
      "\u001b[31mAttributeError\u001b[39m: partially initialized module 'airflow' has no attribute 'utils' (most likely due to a circular import)",
      "\nThe above exception was the direct cause of the following exception:\n",
      "\u001b[31mValueError\u001b[39m                                Traceback (most recent call last)",
      "\u001b[36mCell\u001b[39m\u001b[36m \u001b[39m\u001b[32mIn[6]\u001b[39m\u001b[32m, line 1\u001b[39m\n\u001b[32m----> \u001b[39m\u001b[32m1\u001b[39m \u001b[38;5;28;01mfrom\u001b[39;00m \u001b[34;01mairflow\u001b[39;00m \u001b[38;5;28;01mimport\u001b[39;00m DAG\n\u001b[32m      2\u001b[39m \u001b[38;5;28;01mfrom\u001b[39;00m \u001b[34;01mairflow\u001b[39;00m\u001b[34;01m.\u001b[39;00m\u001b[34;01mmodels\u001b[39;00m \u001b[38;5;28;01mimport\u001b[39;00m Variable\n\u001b[32m      3\u001b[39m \u001b[38;5;28;01mfrom\u001b[39;00m \u001b[34;01mairflow\u001b[39;00m\u001b[34;01m.\u001b[39;00m\u001b[34;01mdecorators\u001b[39;00m \u001b[38;5;28;01mimport\u001b[39;00m task\n",
      "\u001b[36mFile \u001b[39m\u001b[32m~\\AppData\\Roaming\\Python\\Python311\\site-packages\\airflow\\__init__.py:61\u001b[39m\n\u001b[32m     55\u001b[39m \u001b[38;5;66;03m# Perform side-effects unless someone has explicitly opted out before import\u001b[39;00m\n\u001b[32m     56\u001b[39m \u001b[38;5;66;03m# WARNING: DO NOT USE THIS UNLESS YOU REALLY KNOW WHAT YOU'RE DOING.\u001b[39;00m\n\u001b[32m     57\u001b[39m \u001b[38;5;66;03m# This environment variable prevents proper initialization, and things like\u001b[39;00m\n\u001b[32m     58\u001b[39m \u001b[38;5;66;03m# configs, logging, the ORM, etc. will be broken. It is only useful if you only\u001b[39;00m\n\u001b[32m     59\u001b[39m \u001b[38;5;66;03m# access certain trivial constants and free functions (e.g. `__version__`).\u001b[39;00m\n\u001b[32m     60\u001b[39m \u001b[38;5;28;01mif\u001b[39;00m \u001b[38;5;129;01mnot\u001b[39;00m os.environ.get(\u001b[33m\"\u001b[39m\u001b[33m_AIRFLOW__AS_LIBRARY\u001b[39m\u001b[33m\"\u001b[39m, \u001b[38;5;28;01mNone\u001b[39;00m):\n\u001b[32m---> \u001b[39m\u001b[32m61\u001b[39m     \u001b[43msettings\u001b[49m\u001b[43m.\u001b[49m\u001b[43minitialize\u001b[49m\u001b[43m(\u001b[49m\u001b[43m)\u001b[49m\n\u001b[32m     63\u001b[39m \u001b[38;5;66;03m# Things to lazy import in form {local_name: ('target_module', 'target_name', 'deprecated')}\u001b[39;00m\n\u001b[32m     64\u001b[39m __lazy_imports: \u001b[38;5;28mdict\u001b[39m[\u001b[38;5;28mstr\u001b[39m, \u001b[38;5;28mtuple\u001b[39m[\u001b[38;5;28mstr\u001b[39m, \u001b[38;5;28mstr\u001b[39m, \u001b[38;5;28mbool\u001b[39m]] = {\n\u001b[32m     65\u001b[39m     \u001b[33m\"\u001b[39m\u001b[33mDAG\u001b[39m\u001b[33m\"\u001b[39m: (\u001b[33m\"\u001b[39m\u001b[33m.models.dag\u001b[39m\u001b[33m\"\u001b[39m, \u001b[33m\"\u001b[39m\u001b[33mDAG\u001b[39m\u001b[33m\"\u001b[39m, \u001b[38;5;28;01mFalse\u001b[39;00m),\n\u001b[32m     66\u001b[39m     \u001b[33m\"\u001b[39m\u001b[33mDataset\u001b[39m\u001b[33m\"\u001b[39m: (\u001b[33m\"\u001b[39m\u001b[33m.datasets\u001b[39m\u001b[33m\"\u001b[39m, \u001b[33m\"\u001b[39m\u001b[33mDataset\u001b[39m\u001b[33m\"\u001b[39m, \u001b[38;5;28;01mFalse\u001b[39;00m),\n\u001b[32m   (...)\u001b[39m\u001b[32m     70\u001b[39m     \u001b[33m\"\u001b[39m\u001b[33mAirflowException\u001b[39m\u001b[33m\"\u001b[39m: (\u001b[33m\"\u001b[39m\u001b[33m.exceptions\u001b[39m\u001b[33m\"\u001b[39m, \u001b[33m\"\u001b[39m\u001b[33mAirflowException\u001b[39m\u001b[33m\"\u001b[39m, \u001b[38;5;28;01mTrue\u001b[39;00m),\n\u001b[32m     71\u001b[39m }\n",
      "\u001b[36mFile \u001b[39m\u001b[32m~\\AppData\\Roaming\\Python\\Python311\\site-packages\\airflow\\settings.py:531\u001b[39m, in \u001b[36minitialize\u001b[39m\u001b[34m()\u001b[39m\n\u001b[32m    529\u001b[39m import_local_settings()\n\u001b[32m    530\u001b[39m \u001b[38;5;28;01mglobal\u001b[39;00m LOGGING_CLASS_PATH\n\u001b[32m--> \u001b[39m\u001b[32m531\u001b[39m LOGGING_CLASS_PATH = \u001b[43mconfigure_logging\u001b[49m\u001b[43m(\u001b[49m\u001b[43m)\u001b[49m\n\u001b[32m    532\u001b[39m State.state_color.update(STATE_COLORS)\n\u001b[32m    534\u001b[39m configure_adapters()\n",
      "\u001b[36mFile \u001b[39m\u001b[32m~\\AppData\\Roaming\\Python\\Python311\\site-packages\\airflow\\logging_config.py:74\u001b[39m, in \u001b[36mconfigure_logging\u001b[39m\u001b[34m()\u001b[39m\n\u001b[32m     71\u001b[39m     log.error(\u001b[33m\"\u001b[39m\u001b[33mUnable to load the config, contains a configuration error.\u001b[39m\u001b[33m\"\u001b[39m)\n\u001b[32m     72\u001b[39m     \u001b[38;5;66;03m# When there is an error in the config, escalate the exception\u001b[39;00m\n\u001b[32m     73\u001b[39m     \u001b[38;5;66;03m# otherwise Airflow would silently fall back on the default config\u001b[39;00m\n\u001b[32m---> \u001b[39m\u001b[32m74\u001b[39m     \u001b[38;5;28;01mraise\u001b[39;00m e\n\u001b[32m     76\u001b[39m validate_logging_config(logging_config)\n\u001b[32m     78\u001b[39m \u001b[38;5;28;01mreturn\u001b[39;00m logging_class_path\n",
      "\u001b[36mFile \u001b[39m\u001b[32m~\\AppData\\Roaming\\Python\\Python311\\site-packages\\airflow\\logging_config.py:69\u001b[39m, in \u001b[36mconfigure_logging\u001b[39m\u001b[34m()\u001b[39m\n\u001b[32m     66\u001b[39m             task_handler_config[\u001b[33m\"\u001b[39m\u001b[33mfilters\u001b[39m\u001b[33m\"\u001b[39m].append(\u001b[33m\"\u001b[39m\u001b[33mmask_secrets\u001b[39m\u001b[33m\"\u001b[39m)\n\u001b[32m     68\u001b[39m     \u001b[38;5;66;03m# Try to init logging\u001b[39;00m\n\u001b[32m---> \u001b[39m\u001b[32m69\u001b[39m     \u001b[43mdictConfig\u001b[49m\u001b[43m(\u001b[49m\u001b[43mlogging_config\u001b[49m\u001b[43m)\u001b[49m\n\u001b[32m     70\u001b[39m \u001b[38;5;28;01mexcept\u001b[39;00m (\u001b[38;5;167;01mValueError\u001b[39;00m, \u001b[38;5;167;01mKeyError\u001b[39;00m) \u001b[38;5;28;01mas\u001b[39;00m e:\n\u001b[32m     71\u001b[39m     log.error(\u001b[33m\"\u001b[39m\u001b[33mUnable to load the config, contains a configuration error.\u001b[39m\u001b[33m\"\u001b[39m)\n",
      "\u001b[36mFile \u001b[39m\u001b[32mc:\\Program Files\\Python311\\Lib\\logging\\config.py:812\u001b[39m, in \u001b[36mdictConfig\u001b[39m\u001b[34m(config)\u001b[39m\n\u001b[32m    810\u001b[39m \u001b[38;5;28;01mdef\u001b[39;00m \u001b[34mdictConfig\u001b[39m(config):\n\u001b[32m    811\u001b[39m \u001b[38;5;250m    \u001b[39m\u001b[33;03m\"\"\"Configure logging using a dictionary.\"\"\"\u001b[39;00m\n\u001b[32m--> \u001b[39m\u001b[32m812\u001b[39m     \u001b[43mdictConfigClass\u001b[49m\u001b[43m(\u001b[49m\u001b[43mconfig\u001b[49m\u001b[43m)\u001b[49m\u001b[43m.\u001b[49m\u001b[43mconfigure\u001b[49m\u001b[43m(\u001b[49m\u001b[43m)\u001b[49m\n",
      "\u001b[36mFile \u001b[39m\u001b[32mc:\\Program Files\\Python311\\Lib\\logging\\config.py:544\u001b[39m, in \u001b[36mDictConfigurator.configure\u001b[39m\u001b[34m(self)\u001b[39m\n\u001b[32m    541\u001b[39m         formatters[name] = \u001b[38;5;28mself\u001b[39m.configure_formatter(\n\u001b[32m    542\u001b[39m                                             formatters[name])\n\u001b[32m    543\u001b[39m     \u001b[38;5;28;01mexcept\u001b[39;00m \u001b[38;5;167;01mException\u001b[39;00m \u001b[38;5;28;01mas\u001b[39;00m e:\n\u001b[32m--> \u001b[39m\u001b[32m544\u001b[39m         \u001b[38;5;28;01mraise\u001b[39;00m \u001b[38;5;167;01mValueError\u001b[39;00m(\u001b[33m'\u001b[39m\u001b[33mUnable to configure \u001b[39m\u001b[33m'\u001b[39m\n\u001b[32m    545\u001b[39m                          \u001b[33m'\u001b[39m\u001b[33mformatter \u001b[39m\u001b[38;5;132;01m%r\u001b[39;00m\u001b[33m'\u001b[39m % name) \u001b[38;5;28;01mfrom\u001b[39;00m \u001b[34;01me\u001b[39;00m\n\u001b[32m    546\u001b[39m \u001b[38;5;66;03m# Next, do filters - they don't refer to anything else, either\u001b[39;00m\n\u001b[32m    547\u001b[39m filters = config.get(\u001b[33m'\u001b[39m\u001b[33mfilters\u001b[39m\u001b[33m'\u001b[39m, EMPTY_DICT)\n",
      "\u001b[31mValueError\u001b[39m: Unable to configure formatter 'airflow'"
     ]
    }
   ],
   "source": [
    "from airflow import DAG\n",
    "from airflow.models import Variable\n",
    "from airflow.decorators import task\n",
    "from airflow.providers.snowflake.hooks.snowflake import SnowflakeHook\n",
    "\n",
    "from datetime import timedelta\n",
    "from datetime import datetime\n",
    "import snowflake.connector\n",
    "import requests"
   ]
  },
  {
   "cell_type": "code",
   "execution_count": null,
   "id": "10f89eac",
   "metadata": {},
   "outputs": [],
   "source": []
  }
 ],
 "metadata": {
  "kernelspec": {
   "display_name": "Python 3",
   "language": "python",
   "name": "python3"
  },
  "language_info": {
   "codemirror_mode": {
    "name": "ipython",
    "version": 3
   },
   "file_extension": ".py",
   "mimetype": "text/x-python",
   "name": "python",
   "nbconvert_exporter": "python",
   "pygments_lexer": "ipython3",
   "version": "3.11.3"
  }
 },
 "nbformat": 4,
 "nbformat_minor": 5
}
