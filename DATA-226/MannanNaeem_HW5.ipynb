{
 "cells": [
  {
   "cell_type": "code",
   "execution_count": 3,
   "id": "9e34db02",
   "metadata": {},
   "outputs": [],
   "source": [
    "from airflow import DAG\n",
    "from airflow.models import Variable\n",
    "from airflow.decorators import task\n",
    "from airflow.providers.snowflake.hooks.snowflake import SnowflakeHook\n",
    "\n",
    "from datetime import timedelta\n",
    "from datetime import datetime\n",
    "import snowflake.connector\n",
    "import requests"
   ]
  },
  {
   "cell_type": "code",
   "execution_count": null,
   "id": "10f89eac",
   "metadata": {},
   "outputs": [],
   "source": []
  }
 ],
 "metadata": {
  "kernelspec": {
   "display_name": "Python 3",
   "language": "python",
   "name": "python3"
  },
  "language_info": {
   "codemirror_mode": {
    "name": "ipython",
    "version": 3
   },
   "file_extension": ".py",
   "mimetype": "text/x-python",
   "name": "python",
   "nbconvert_exporter": "python",
   "pygments_lexer": "ipython3",
   "version": "3.11.0"
  }
 },
 "nbformat": 4,
 "nbformat_minor": 5
}
