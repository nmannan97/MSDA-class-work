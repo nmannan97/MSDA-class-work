{
 "cells": [
  {
   "cell_type": "code",
   "execution_count": null,
   "id": "7d9499ea",
   "metadata": {},
   "outputs": [],
   "source": [
    "import numpy as np\n",
    "import os\n",
    "\n",
    "np.set_printoptions(suppress=True, linewidth=150)"
   ]
  },
  {
   "cell_type": "code",
   "execution_count": 2,
   "id": "8ebdb1a0",
   "metadata": {},
   "outputs": [
    {
     "name": "stdout",
     "output_type": "stream",
     "text": [
      "c:\\Users\\nmann\\Desktop\\MSDA folder\\MSDA-class-work\\DATA-200\\loan-data.csv [['48010226' 'May-15' '35000.0' ... 'https://www.lendingclub.com/browse/loanDetail.action?loan_id=48010226' 'CA' '9452.96']\n",
      " ['57693261' '' '30000.0' ... 'https://www.lendingclub.com/browse/loanDetail.action?loan_id=57693261' 'NY' '4679.7']\n",
      " ['59432726' 'Sep-15' '15000.0' ... 'https://www.lendingclub.com/browse/loanDetail.action?loan_id=59432726' 'PA' '1969.83']\n",
      " ...\n",
      " ['50415990' 'Jun-15' '10000.0' ... 'https://www.lendingclub.com/browse/loanDetail.action?loan_id=50415990' 'CA' '2185.64']\n",
      " ['46154151' 'Apr-15' '' ... 'https://www.lendingclub.com/browse/loanDetail.action?loan_id=46154151' 'OH' '3199.4']\n",
      " ['66055249' 'Dec-15' '10000.0' ... 'https://www.lendingclub.com/browse/loanDetail.action?loan_id=66055249' 'IL' '301.9']] ['id' 'issue_d' 'loan_amnt' 'loan_status' 'funded_amnt' 'term' 'int_rate' 'installment' 'grade' 'sub_grade' 'verification_status' 'url' 'addr_state'\n",
      " 'total_pymnt']\n"
     ]
    }
   ],
   "source": [
    "file_path = os.path.join(os.getcwd(), \"loan-data.csv\")\n",
    "\n",
    "raw_data_np = np.genfromtxt(file_path, delimiter=';', skip_header=1, dtype=str, encoding=\"cp855\")\n",
    "\n",
    "header_full = np.genfromtxt(file_path, delimiter=';', max_rows=1, dtype=str, encoding=\"cp855\")\n",
    "print(file_path, raw_data_np, header_full)"
   ]
  },
  {
   "cell_type": "code",
   "execution_count": 3,
   "id": "ee12f6f5",
   "metadata": {},
   "outputs": [
    {
     "name": "stdout",
     "output_type": "stream",
     "text": [
      "[0]\n",
      "[1, 2, 3, 4, 5, 6, 7, 8, 9, 10, 11, 12, 13]\n"
     ]
    }
   ],
   "source": [
    "num_cols = []\n",
    "str_cols = []\n",
    "\n",
    "for i in range(raw_data_np.shape[1]):\n",
    "    try:\n",
    "        col_as_float = raw_data_np[:, i].astype(np.float64)\n",
    "        num_cols.append(i)\n",
    "    except ValueError:\n",
    "        str_cols.append(i)\n",
    "        \n",
    "print(num_cols)\n",
    "print(str_cols)"
   ]
  },
  {
   "cell_type": "code",
   "execution_count": 4,
   "id": "c5fc2871",
   "metadata": {},
   "outputs": [
    {
     "name": "stdout",
     "output_type": "stream",
     "text": [
      "[['May-15' '35000.0' 'Current' ... 'https://www.lendingclub.com/browse/loanDetail.action?loan_id=48010226' 'CA' '9452.96']\n",
      " ['' '30000.0' 'Current' ... 'https://www.lendingclub.com/browse/loanDetail.action?loan_id=57693261' 'NY' '4679.7']\n",
      " ['Sep-15' '15000.0' 'Current' ... 'https://www.lendingclub.com/browse/loanDetail.action?loan_id=59432726' 'PA' '1969.83']\n",
      " ...\n",
      " ['Jun-15' '10000.0' 'Current' ... 'https://www.lendingclub.com/browse/loanDetail.action?loan_id=50415990' 'CA' '2185.64']\n",
      " ['Apr-15' '' 'Current' ... 'https://www.lendingclub.com/browse/loanDetail.action?loan_id=46154151' 'OH' '3199.4']\n",
      " ['Dec-15' '10000.0' 'Current' ... 'https://www.lendingclub.com/browse/loanDetail.action?loan_id=66055249' 'IL' '301.9']] [[nan]\n",
      " [nan]\n",
      " [nan]\n",
      " ...\n",
      " [nan]\n",
      " [nan]\n",
      " [nan]] [[nan]\n",
      " [nan]\n",
      " [nan]\n",
      " ...\n",
      " [nan]\n",
      " [nan]\n",
      " [nan]]\n"
     ]
    }
   ],
   "source": [
    "loan_data_strings = raw_data_np[:, str_cols]\n",
    "loan_data_numeric_raw = raw_data_np[:, num_cols]\n",
    "\n",
    "loan_data_numeric = np.full_like(loan_data_numeric_raw, np.nan, dtype=np.float64)\n",
    "\n",
    "print(loan_data_strings, loan_data_numeric, loan_data_numeric)"
   ]
  },
  {
   "cell_type": "code",
   "execution_count": 5,
   "id": "c1f9ac14",
   "metadata": {},
   "outputs": [
    {
     "name": "stdout",
     "output_type": "stream",
     "text": [
      "[[48010226.]\n",
      " [57693261.]\n",
      " [59432726.]\n",
      " ...\n",
      " [50415990.]\n",
      " [46154151.]\n",
      " [66055249.]]\n"
     ]
    }
   ],
   "source": [
    "for i in range(loan_data_numeric_raw.shape[1]):\n",
    "    for j in range(loan_data_numeric_raw.shape[0]):\n",
    "        try:\n",
    "            loan_data_numeric[j, i] = float(loan_data_numeric_raw[j, i])\n",
    "        except ValueError:\n",
    "            continue \n",
    "\n",
    "print(loan_data_numeric) "
   ]
  },
  {
   "cell_type": "code",
   "execution_count": 6,
   "id": "b7dce6ce",
   "metadata": {},
   "outputs": [
    {
     "name": "stdout",
     "output_type": "stream",
     "text": [
      "['issue_d' 'loan_amnt' 'loan_status' 'funded_amnt' 'term' 'int_rate' 'installment' 'grade' 'sub_grade' 'verification_status' 'url' 'addr_state'\n",
      " 'total_pymnt'] ['id']\n"
     ]
    }
   ],
   "source": [
    "header_strings = header_full[str_cols]\n",
    "header_numeric = header_full[num_cols]\n",
    "\n",
    "print(header_strings, header_numeric)"
   ]
  },
  {
   "cell_type": "code",
   "execution_count": 7,
   "id": "bf81c330",
   "metadata": {},
   "outputs": [],
   "source": [
    "np.savez(os.path.join(os.getcwd(), \"loan_data_cleaned_checkpoint.npz\"),\n",
    "         loan_data_strings=loan_data_strings,\n",
    "         loan_data_numeric=loan_data_numeric,\n",
    "         header_strings=header_strings,\n",
    "         header_numeric=header_numeric)"
   ]
  },
  {
   "cell_type": "code",
   "execution_count": 8,
   "id": "4b5acca1",
   "metadata": {},
   "outputs": [
    {
     "name": "stdout",
     "output_type": "stream",
     "text": [
      "String data shape: (10000, 13)\n",
      "Numeric data shape: (10000, 1)\n"
     ]
    }
   ],
   "source": [
    "print(\"String data shape:\", loan_data_strings.shape)\n",
    "print(\"Numeric data shape:\", loan_data_numeric.shape)"
   ]
  }
 ],
 "metadata": {
  "kernelspec": {
   "display_name": "Python 3",
   "language": "python",
   "name": "python3"
  },
  "language_info": {
   "codemirror_mode": {
    "name": "ipython",
    "version": 3
   },
   "file_extension": ".py",
   "mimetype": "text/x-python",
   "name": "python",
   "nbconvert_exporter": "python",
   "pygments_lexer": "ipython3",
   "version": "3.11.3"
  }
 },
 "nbformat": 4,
 "nbformat_minor": 5
}
