{
 "cells": [
  {
   "cell_type": "code",
   "execution_count": 4,
   "id": "38cdbe67",
   "metadata": {},
   "outputs": [
    {
     "name": "stdout",
     "output_type": "stream",
     "text": [
      "Title: Google\n"
     ]
    }
   ],
   "source": [
    "from selenium import webdriver\n",
    "from selenium.webdriver.firefox.service import Service\n",
    "from webdriver_manager.firefox import GeckoDriverManager\n",
    "\n",
    "driver = webdriver.Firefox(service=Service(GeckoDriverManager().install()))\n",
    "driver.get(\"https://www.google.com\")\n",
    "print(\"Title:\", driver.title)\n",
    "driver.quit()"
   ]
  },
  {
   "cell_type": "code",
   "execution_count": 1,
   "id": "db4ce139",
   "metadata": {},
   "outputs": [
    {
     "ename": "SystemExit",
     "evalue": "0",
     "output_type": "error",
     "traceback": [
      "An exception has occurred, use %tb to see the full traceback.\n",
      "\u001b[31mSystemExit\u001b[39m\u001b[31m:\u001b[39m 0\n"
     ]
    },
    {
     "name": "stderr",
     "output_type": "stream",
     "text": [
      "C:\\Users\\balto\\AppData\\Roaming\\Python\\Python311\\site-packages\\IPython\\core\\interactiveshell.py:3675: UserWarning: To exit: use 'exit', 'quit', or Ctrl-D.\n",
      "  warn(\"To exit: use 'exit', 'quit', or Ctrl-D.\", stacklevel=1)\n"
     ]
    }
   ],
   "source": [
    "import sys\n",
    "import yfinance as yf\n",
    "from PyQt5.QtWidgets import ( QApplication, QWidget, QVBoxLayout, QLabel, QPushButton, QLineEdit, QTextEdit )\n",
    "\n",
    "\n",
    "class StockFetcherApp(QWidget):\n",
    "    def __init__(self):\n",
    "        super().__init__()\n",
    "        self.setWindowTitle(\"Yahoo Finance Stock Fetcher\")\n",
    "        self.setGeometry(200, 200, 700, 400)\n",
    "\n",
    "        layout = QVBoxLayout()\n",
    "\n",
    "        self.label = QLabel(\"Enter Stock Ticker (e.g., AAPL, MSFT):\")\n",
    "        layout.addWidget(self.label)\n",
    "\n",
    "        self.ticker_input = QLineEdit()\n",
    "        layout.addWidget(self.ticker_input)\n",
    "\n",
    "        self.fetch_button = QPushButton(\"Fetch Stock Data\")\n",
    "        self.fetch_button.clicked.connect(self.fetch_data)\n",
    "        layout.addWidget(self.fetch_button)\n",
    "\n",
    "        self.output = QTextEdit()\n",
    "        self.output.setReadOnly(True)\n",
    "        layout.addWidget(self.output)\n",
    "\n",
    "        self.setLayout(layout)\n",
    "\n",
    "    def fetch_data(self):\n",
    "        ticker = self.ticker_input.text().strip().upper()\n",
    "        if not ticker:\n",
    "            self.output.setText(\"Please enter a stock ticker.\")\n",
    "            return\n",
    "\n",
    "        try:\n",
    "            self.output.setText(f\"Fetching data for {ticker}...\")\n",
    "            stock = yf.Ticker(ticker)\n",
    "            hist = stock.history(period=\"1mo\")  # Get 1 month of history\n",
    "            if hist.empty:\n",
    "                self.output.setText(f\"No data found for {ticker}.\")\n",
    "                return\n",
    "\n",
    "            output_text = f\"📊 {ticker} - Last 5 Trading Days:\\n\\n\"\n",
    "            for index, row in hist.tail(5).iterrows():\n",
    "                output_text += (\n",
    "                    f\"{index.strftime('%Y-%m-%d')}: Open={row['Open']:.2f}, \"\n",
    "                    f\"High={row['High']:.2f}, Low={row['Low']:.2f}, \"\n",
    "                    f\"Close={row['Close']:.2f}, Volume={int(row['Volume'])}\\n\"\n",
    "                )\n",
    "\n",
    "            self.output.setText(output_text)\n",
    "        except Exception as e:\n",
    "            self.output.setText(f\"❌ Error: {str(e)}\")\n",
    "\n",
    "\n",
    "# Run the GUI\n",
    "if __name__ == \"__main__\":\n",
    "    app = QApplication(sys.argv)\n",
    "    window = StockFetcherApp()\n",
    "    window.show()\n",
    "    sys.exit(app.exec_())\n"
   ]
  },
  {
   "cell_type": "code",
   "execution_count": null,
   "id": "7387bcda",
   "metadata": {},
   "outputs": [],
   "source": []
  }
 ],
 "metadata": {
  "kernelspec": {
   "display_name": "Python 3",
   "language": "python",
   "name": "python3"
  },
  "language_info": {
   "codemirror_mode": {
    "name": "ipython",
    "version": 3
   },
   "file_extension": ".py",
   "mimetype": "text/x-python",
   "name": "python",
   "nbconvert_exporter": "python",
   "pygments_lexer": "ipython3",
   "version": "3.11.0"
  }
 },
 "nbformat": 4,
 "nbformat_minor": 5
}
