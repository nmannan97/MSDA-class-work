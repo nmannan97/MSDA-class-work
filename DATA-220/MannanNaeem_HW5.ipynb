{
 "cells": [
  {
   "cell_type": "code",
   "execution_count": null,
   "id": "6ea7c969",
   "metadata": {},
   "outputs": [],
   "source": [
    "from scipy.stats import binom"
   ]
  },
  {
   "cell_type": "markdown",
   "id": "7b2bae31",
   "metadata": {},
   "source": [
    "## Assignments for Probability 2"
   ]
  },
  {
   "cell_type": "markdown",
   "id": "55f0a520",
   "metadata": {},
   "source": [
    "### A 1"
   ]
  },
  {
   "cell_type": "markdown",
   "id": "e850ea4f",
   "metadata": {},
   "source": [
    "A fair coin is flipped 10 times. What is the probability of getting exactly 6 heads?"
   ]
  },
  {
   "cell_type": "code",
   "execution_count": null,
   "id": "31d13c98",
   "metadata": {},
   "outputs": [],
   "source": [
    "# Write your solution code here\n",
    "# You can use scipy.stats.binom to create binomial distribution objects\n",
    "# For example:\n",
    "# from scipy.stats import binom\n",
    "# binom.pmf(k, n, p)\n"
   ]
  },
  {
   "cell_type": "markdown",
   "id": "da1d378a",
   "metadata": {},
   "source": [
    "### A 2"
   ]
  },
  {
   "cell_type": "markdown",
   "id": "0ca7c9ae",
   "metadata": {},
   "source": [
    "Assume that 45% of the population has brown eyes. If 12 people are randomly selected, what is the probability that exactly 5 of them have brown eyes?"
   ]
  },
  {
   "cell_type": "code",
   "execution_count": null,
   "id": "6c05d3d9",
   "metadata": {},
   "outputs": [],
   "source": [
    "# Write your solution code here\n",
    "# You can use scipy.stats.binom to create binomial distribution objects\n",
    "# For example:\n",
    "# from scipy.stats import binom\n",
    "# binom.pmf(k, n, p)\n"
   ]
  }
 ],
 "metadata": {
  "kernelspec": {
   "display_name": "Python 3",
   "language": "python",
   "name": "python3"
  },
  "language_info": {
   "codemirror_mode": {
    "name": "ipython",
    "version": 3
   },
   "file_extension": ".py",
   "mimetype": "text/x-python",
   "name": "python",
   "nbconvert_exporter": "python",
   "pygments_lexer": "ipython3",
   "version": "3.8.8"
  }
 },
 "nbformat": 4,
 "nbformat_minor": 5
}
