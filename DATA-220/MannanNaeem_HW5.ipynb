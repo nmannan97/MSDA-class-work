{
 "cells": [
  {
   "cell_type": "code",
   "execution_count": 5,
   "id": "6ea7c969",
   "metadata": {},
   "outputs": [],
   "source": [
    "from scipy.stats import binom"
   ]
  },
  {
   "cell_type": "markdown",
   "id": "7b2bae31",
   "metadata": {},
   "source": [
    "## Assignments for Probability 2"
   ]
  },
  {
   "cell_type": "markdown",
   "id": "55f0a520",
   "metadata": {},
   "source": [
    "### A 1"
   ]
  },
  {
   "cell_type": "markdown",
   "id": "e850ea4f",
   "metadata": {},
   "source": [
    "A fair coin is flipped 10 times. What is the probability of getting exactly 6 heads?"
   ]
  },
  {
   "cell_type": "code",
   "execution_count": 13,
   "id": "31d13c98",
   "metadata": {},
   "outputs": [
    {
     "name": "stdout",
     "output_type": "stream",
     "text": [
      "probability for A1 20.51%\n"
     ]
    }
   ],
   "source": [
    "# Write your solution code here\n",
    "# You can use scipy.stats.binom to create binomial distribution objects\n",
    "# For example:\n",
    "# from scipy.stats import binom\n",
    "# binom.pmf(k, n, p)\n",
    "prob = binom.pmf(k=6, n=10, p=0.5)\n",
    "print(\"probability for A1 {:.2f}%\".format(prob*100))"
   ]
  },
  {
   "cell_type": "markdown",
   "id": "da1d378a",
   "metadata": {},
   "source": [
    "### A 2"
   ]
  },
  {
   "cell_type": "markdown",
   "id": "0ca7c9ae",
   "metadata": {},
   "source": [
    "Assume that 45% of the population has brown eyes. If 12 people are randomly selected, what is the probability that exactly 5 of them have brown eyes?"
   ]
  },
  {
   "cell_type": "code",
   "execution_count": 12,
   "id": "6c05d3d9",
   "metadata": {},
   "outputs": [
    {
     "name": "stdout",
     "output_type": "stream",
     "text": [
      "probability for A2 22.25%\n"
     ]
    }
   ],
   "source": [
    "# Write your solution code here\n",
    "# You can use scipy.stats.binom to create binomial distribution objects\n",
    "# For example:\n",
    "# from scipy.stats import binom\n",
    "# binom.pmf(k, n, p)\n",
    "prob = binom.pmf(k=5, n=12, p=0.45)\n",
    "print(\"probability for A2 {:.2f}%\".format(prob*100))"
   ]
  },
  {
   "cell_type": "code",
   "execution_count": null,
   "id": "fd32bd9e",
   "metadata": {},
   "outputs": [],
   "source": []
  }
 ],
 "metadata": {
  "kernelspec": {
   "display_name": "Python 3",
   "language": "python",
   "name": "python3"
  },
  "language_info": {
   "codemirror_mode": {
    "name": "ipython",
    "version": 3
   },
   "file_extension": ".py",
   "mimetype": "text/x-python",
   "name": "python",
   "nbconvert_exporter": "python",
   "pygments_lexer": "ipython3",
   "version": "3.11.3"
  }
 },
 "nbformat": 4,
 "nbformat_minor": 5
}
