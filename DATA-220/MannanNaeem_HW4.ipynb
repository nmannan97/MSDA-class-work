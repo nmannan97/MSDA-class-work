{
 "cells": [
  {
   "cell_type": "code",
   "execution_count": 2,
   "id": "66cd974c",
   "metadata": {},
   "outputs": [],
   "source": [
    "#Two group prevelance\n",
    "under_50 = 0.02\n",
    "over_50 = 0.08\n",
    "\n",
    "#Accuracy levels\n",
    "acc_under_50 = 0.95\n",
    "acc_over_50 = 0.90\n",
    "\n",
    "#Error rate, false positive\n",
    "err_rate = 0.05\n",
    "\n",
    "def bayesian_update_disease(prior, accuracy, false_positive_rate):\n",
    "    \n",
    "    # Numerator: true positives\n",
    "    numerator = accuracy * prior\n",
    "    \n",
    "    # Denominator: total probability of a positive test\n",
    "    denominator = (accuracy * prior) + (false_positive_rate * (1 - prior))\n",
    "    \n",
    "    # Bayes rule\n",
    "    posterior = numerator / denominator\n",
    "    return posterior"
   ]
  },
  {
   "cell_type": "code",
   "execution_count": 9,
   "id": "b8b9c8c4",
   "metadata": {},
   "outputs": [
    {
     "name": "stdout",
     "output_type": "stream",
     "text": [
      "Under 50 group probability:  27.941%\n",
      "Over 50 group probability:  61.017%\n"
     ]
    }
   ],
   "source": [
    "print(\"Under 50 group probability: \", f\"{bayesian_update_disease(under_50, acc_under_50, err_rate)*100:.3f}%\")\n",
    "print(\"Over 50 group probability: \", f\"{bayesian_update_disease(over_50, acc_over_50, err_rate)*100:.3f}%\")"
   ]
  },
  {
   "cell_type": "code",
   "execution_count": 10,
   "id": "38a32c8e",
   "metadata": {},
   "outputs": [],
   "source": [
    "model_1 = 0.70\n",
    "error   = 0.30\n",
    "actual  = 0.20\n",
    "\n",
    "def bayesian_update_weather(prior, likelihood, false_positive_rate):\n",
    "    \n",
    "    # Numerator: true positives\n",
    "    numerator = likelihood * prior\n",
    "    \n",
    "    # Denominator: total probability of a positive test\n",
    "    denominator = (likelihood * prior) + (false_positive_rate * (1 - prior))\n",
    "    \n",
    "    # Bayes rule\n",
    "    posterior = numerator / denominator\n",
    "    return posterior"
   ]
  },
  {
   "cell_type": "code",
   "execution_count": null,
   "id": "74dbc178",
   "metadata": {},
   "outputs": [
    {
     "name": "stdout",
     "output_type": "stream",
     "text": [
      "Probability of it raining:  60.870%\n"
     ]
    },
    {
     "ename": "",
     "evalue": "",
     "output_type": "error",
     "traceback": [
      "\u001b[1;31mThe Kernel crashed while executing code in the current cell or a previous cell. \n",
      "\u001b[1;31mPlease review the code in the cell(s) to identify a possible cause of the failure. \n",
      "\u001b[1;31mClick <a href='https://aka.ms/vscodeJupyterKernelCrash'>here</a> for more info. \n",
      "\u001b[1;31mView Jupyter <a href='command:jupyter.viewOutput'>log</a> for further details."
     ]
    }
   ],
   "source": [
    "print(\"Probability of it raining: \", f\"{bayesian_update_disease(model_1, actual, error)*100:.3f}%\")"
   ]
  }
 ],
 "metadata": {
  "kernelspec": {
   "display_name": "Python 3",
   "language": "python",
   "name": "python3"
  },
  "language_info": {
   "codemirror_mode": {
    "name": "ipython",
    "version": 3
   },
   "file_extension": ".py",
   "mimetype": "text/x-python",
   "name": "python",
   "nbconvert_exporter": "python",
   "pygments_lexer": "ipython3",
   "version": "3.11.0"
  }
 },
 "nbformat": 4,
 "nbformat_minor": 5
}
