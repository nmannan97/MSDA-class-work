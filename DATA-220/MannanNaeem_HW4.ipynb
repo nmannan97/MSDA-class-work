{
 "cells": [
  {
   "cell_type": "code",
   "execution_count": 2,
   "id": "66cd974c",
   "metadata": {},
   "outputs": [],
   "source": [
    "#Two group prevelance\n",
    "under_50 = 0.02\n",
    "over_50 = 0.08\n",
    "\n",
    "#Accuracy levels\n",
    "acc_under_50 = 0.95\n",
    "acc_over_50 = 0.90\n",
    "\n",
    "#Error rate, false positive\n",
    "err_rate = 0.05\n",
    "\n",
    "def bayesian_update_disease(prior, accuracy, false_positive_rate):\n",
    "    \n",
    "    # Numerator: true positives\n",
    "    numerator = accuracy * prior\n",
    "    \n",
    "    # Denominator: total probability of a positive test\n",
    "    denominator = (accuracy * prior) + (false_positive_rate * (1 - prior))\n",
    "    \n",
    "    # Bayes rule\n",
    "    posterior = numerator / denominator\n",
    "    return posterior"
   ]
  },
  {
   "cell_type": "code",
   "execution_count": null,
   "id": "b8b9c8c4",
   "metadata": {},
   "outputs": [
    {
     "name": "stdout",
     "output_type": "stream",
     "text": [
      "Under 50 group probability:  27.941176470588232 %\n",
      "Over 50 group probability:  61.01694915254237 %\n"
     ]
    }
   ],
   "source": [
    "print(\"Under 50 group probability: \", bayesian_update_disease(under_50, acc_under_50, err_rate)*100, \"%\")\n",
    "print(\"Over 50 group probability: \", bayesian_update_disease(over_50, acc_over_50, err_rate)*100, \"%\")"
   ]
  },
  {
   "cell_type": "code",
   "execution_count": null,
   "id": "38a32c8e",
   "metadata": {},
   "outputs": [],
   "source": []
  }
 ],
 "metadata": {
  "kernelspec": {
   "display_name": "Python 3",
   "language": "python",
   "name": "python3"
  },
  "language_info": {
   "codemirror_mode": {
    "name": "ipython",
    "version": 3
   },
   "file_extension": ".py",
   "mimetype": "text/x-python",
   "name": "python",
   "nbconvert_exporter": "python",
   "pygments_lexer": "ipython3",
   "version": "3.11.0"
  }
 },
 "nbformat": 4,
 "nbformat_minor": 5
}
